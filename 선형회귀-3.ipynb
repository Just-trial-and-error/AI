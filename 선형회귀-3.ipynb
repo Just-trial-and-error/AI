{
 "cells": [
  {
   "cell_type": "markdown",
   "metadata": {},
   "source": [
    "# [선형회귀분석 실습 3: 변수 선택 및 변수 변환]"
   ]
  },
  {
   "cell_type": "markdown",
   "metadata": {},
   "source": [
    "## 1. 모듈 불러오기"
   ]
  },
  {
   "cell_type": "code",
   "execution_count": null,
   "metadata": {},
   "outputs": [],
   "source": [
    "# 데이터 전처리 패키지\n",
    "from IPython.display import display, HTML\n",
    "import numpy as np\n",
    "import pandas as pd\n",
    "import scipy as sp\n",
    "import scipy.stats as stats\n",
    "\n",
    "# 기계학습 모델 & 데이터 셋 & 성능 평가 패키지\n",
    "import statsmodels.api as sm\n",
    "import statsmodels.formula.api as smf\n",
    "\n",
    "import pylab\n",
    "\n",
    "from sklearn.preprocessing import StandardScaler, RobustScaler, MinMaxScaler, MaxAbsScaler\n",
    "from sklearn.model_selection import train_test_split\n",
    "from sklearn.datasets import fetch_california_housing\n",
    "from sklearn.metrics import mean_squared_error, r2_score, mean_absolute_error\n",
    "\n",
    "# 데이터 시각화 패키지\n",
    "import seaborn as sns\n",
    "import matplotlib.pyplot as plt\n",
    "import matplotlib.font_manager as fm\n",
    "\n",
    "# 한글 폰트 설정\n",
    "plt.rc('font', family='Malgun Gothic')\n",
    "\n",
    "from sklearn.metrics import mean_squared_error\n",
    "from sklearn.metrics import mean_absolute_error\n",
    "\n",
    "def mean_absolute_percentage_error(y_true, y_pred):\n",
    "    y_true, y_pred = np.array(y_true), np.array(y_pred)\n",
    "    return np.mean(np.abs((y_true-y_pred)/y_true))*100"
   ]
  },
  {
   "cell_type": "code",
   "execution_count": null,
   "metadata": {
    "scrolled": true
   },
   "outputs": [],
   "source": [
    "california = fetch_california_housing()\n",
    "print(california.DESCR)"
   ]
  },
  {
   "cell_type": "code",
   "execution_count": null,
   "metadata": {},
   "outputs": [],
   "source": [
    "print(california.data)"
   ]
  },
  {
   "cell_type": "markdown",
   "metadata": {},
   "source": [
    "## 2. 데이터 불러오기 및 전처리"
   ]
  },
  {
   "cell_type": "code",
   "execution_count": null,
   "metadata": {},
   "outputs": [],
   "source": [
    "X = pd.DataFrame(california.data, columns=california.feature_names)\n",
    "y = pd.DataFrame(california.target, columns=['House Value'])"
   ]
  },
  {
   "cell_type": "code",
   "execution_count": null,
   "metadata": {},
   "outputs": [],
   "source": [
    "X.head()"
   ]
  },
  {
   "cell_type": "code",
   "execution_count": null,
   "metadata": {},
   "outputs": [],
   "source": [
    "data = pd.concat([X, y], axis=1)\n",
    "train_data, test_data = train_test_split(data, test_size=0.3, random_state=55)"
   ]
  },
  {
   "cell_type": "markdown",
   "metadata": {},
   "source": [
    "## 3. 모델링"
   ]
  },
  {
   "cell_type": "code",
   "execution_count": null,
   "metadata": {
    "scrolled": true
   },
   "outputs": [],
   "source": [
    "lm = sm.OLS(train_data['House Value'], train_data.drop('House Value', axis=1))\n",
    "lm_trained = lm.fit()\n",
    "display(lm_trained.summary())"
   ]
  },
  {
   "cell_type": "code",
   "execution_count": null,
   "metadata": {},
   "outputs": [],
   "source": [
    "test_pred = lm_trained.predict(test_data.drop('House Value', axis=1))"
   ]
  },
  {
   "cell_type": "markdown",
   "metadata": {},
   "source": [
    "## 4. 유의하지 않은 변수 제거하기\n",
    "### p-value가 높은 \"Populaion\" 변수를 모델에서 제거"
   ]
  },
  {
   "cell_type": "code",
   "execution_count": null,
   "metadata": {},
   "outputs": [],
   "source": [
    "train_data_new = train_data.drop('Population', axis=1)\n",
    "test_data_new = test_data.drop('Population', axis=1)"
   ]
  },
  {
   "cell_type": "code",
   "execution_count": null,
   "metadata": {
    "scrolled": true
   },
   "outputs": [],
   "source": [
    "lm_new = sm.OLS(train_data_new['House Value'], train_data_new.drop('House Value', axis=1))\n",
    "lm_new_trained = lm_new.fit()\n",
    "display(lm_new_trained.summary())"
   ]
  },
  {
   "cell_type": "code",
   "execution_count": null,
   "metadata": {},
   "outputs": [],
   "source": [
    "test_pred_new = lm_new_trained.predict(test_data_new.drop('House Value', axis=1))"
   ]
  },
  {
   "cell_type": "markdown",
   "metadata": {},
   "source": [
    "변수 제거 전후의 예측성능 비교하기"
   ]
  },
  {
   "cell_type": "code",
   "execution_count": null,
   "metadata": {},
   "outputs": [],
   "source": [
    "test_mse = mean_squared_error(test_data['House Value'], test_pred)\n",
    "test_rmse = np.sqrt(mean_squared_error(test_data['House Value'], test_pred))\n",
    "test_mae = mean_absolute_error(test_data['House Value'], test_pred)\n",
    "test_mape = mean_absolute_percentage_error(test_data['House Value'], test_pred)\n",
    "\n",
    "test_mse_new = mean_squared_error(test_data_new['House Value'], test_pred_new)\n",
    "test_rmse_new = np.sqrt(mean_squared_error(test_data_new['House Value'], test_pred_new))\n",
    "test_mae_new = mean_absolute_error(test_data_new['House Value'], test_pred_new)\n",
    "test_mape_new = mean_absolute_percentage_error(test_data_new['House Value'], test_pred_new)"
   ]
  },
  {
   "cell_type": "code",
   "execution_count": null,
   "metadata": {},
   "outputs": [],
   "source": [
    "print('Testing MSE: {:.3f} → {:.3f}'.format(test_mse, test_mse_new))\n",
    "print('Testing RMSE: {:.3f} → {:.3f}'.format(test_rmse, test_rmse_new))\n",
    "print('Testing MAE: {:.3f} → {:.3f}'.format(test_mae, test_mae_new))\n",
    "print('Testing MAPE: {:.3f} → {:.3f}'.format(test_mape, test_mape_new))"
   ]
  },
  {
   "cell_type": "markdown",
   "metadata": {},
   "source": [
    "## 5. 상관계수가 높은 변수 제거하기\n",
    "### correlation이 높은 변수 \"AveRooms\"와 \"AveBedrms\" 중 \"AveBedrms\" 변수 제거하기"
   ]
  },
  {
   "cell_type": "code",
   "execution_count": null,
   "metadata": {
    "scrolled": false
   },
   "outputs": [],
   "source": [
    "plt.figure(figsize=(10, 9))\n",
    "sns.heatmap(data.corr(), cmap=sns.color_palette(\"coolwarm\", 10), annot=data.corr())"
   ]
  },
  {
   "cell_type": "code",
   "execution_count": null,
   "metadata": {},
   "outputs": [],
   "source": [
    "train_data_new2 = train_data.drop('AveBedrms', axis=1)\n",
    "test_data_new2 = test_data.drop('AveBedrms', axis=1)"
   ]
  },
  {
   "cell_type": "code",
   "execution_count": null,
   "metadata": {
    "scrolled": true
   },
   "outputs": [],
   "source": [
    "lm_new2 = sm.OLS(train_data_new2['House Value'], train_data_new2.drop('House Value', axis=1))\n",
    "lm_new2_trained = lm_new2.fit()\n",
    "display(lm_new2_trained.summary())\n",
    "test_pred_new2 = lm_new2_trained.predict(test_data_new2.drop('House Value', axis=1))"
   ]
  },
  {
   "cell_type": "markdown",
   "metadata": {},
   "source": [
    "변수 제거 전후의 예측성능 비교하기"
   ]
  },
  {
   "cell_type": "code",
   "execution_count": null,
   "metadata": {},
   "outputs": [],
   "source": [
    "test_mse_new2 = mean_squared_error(test_data_new2['House Value'], test_pred_new2)\n",
    "test_rmse_new2 = np.sqrt(mean_squared_error(test_data_new2['House Value'], test_pred_new2))\n",
    "test_mae_new2 = mean_absolute_error(test_data_new2['House Value'], test_pred_new2)\n",
    "test_mape_new2 = mean_absolute_percentage_error(test_data_new2['House Value'], test_pred_new2)\n",
    "print('Testing MSE: {:.3f} → {:.3f}'.format(test_mse, test_mse_new2))\n",
    "print('Testing RMSE: {:.3f} → {:.3f}'.format(test_rmse, test_rmse_new2))\n",
    "print('Testing MAE: {:.3f} → {:.3f}'.format(test_mae, test_mae_new2))\n",
    "print('Testing MAPE: {:.3f} → {:.3f}'.format(test_mape, test_mape_new2))"
   ]
  },
  {
   "cell_type": "markdown",
   "metadata": {},
   "source": [
    "## 6. 변수 변환하기: 설명변수(X) or 반응변수(y) 변환"
   ]
  },
  {
   "cell_type": "markdown",
   "metadata": {},
   "source": [
    "### 설명변수(X) 변환: MinMax 정규화(모든 설명변수 데이터 범위를 0~1로 맞춰주자)"
   ]
  },
  {
   "cell_type": "code",
   "execution_count": null,
   "metadata": {},
   "outputs": [],
   "source": [
    "data.drop('House Value', axis=1).head()"
   ]
  },
  {
   "cell_type": "code",
   "execution_count": null,
   "metadata": {},
   "outputs": [],
   "source": [
    "scaler = MinMaxScaler()\n",
    "data_normalized = scaler.fit_transform(data.drop('House Value', axis=1))\n",
    "data_normalized = pd.DataFrame(data_normalized, columns=data.drop('House Value', axis=1).columns)"
   ]
  },
  {
   "cell_type": "markdown",
   "metadata": {},
   "source": [
    "## 정규화 후"
   ]
  },
  {
   "cell_type": "code",
   "execution_count": null,
   "metadata": {},
   "outputs": [],
   "source": [
    "data_normalized.head()"
   ]
  },
  {
   "cell_type": "markdown",
   "metadata": {},
   "source": [
    "## 정규화 전"
   ]
  },
  {
   "cell_type": "code",
   "execution_count": null,
   "metadata": {},
   "outputs": [],
   "source": [
    "X_train, X_test, y_train, y_test = train_test_split(data_normalized, data['House Value'], test_size=0.3, random_state=20190625)"
   ]
  },
  {
   "cell_type": "code",
   "execution_count": null,
   "metadata": {},
   "outputs": [],
   "source": [
    "lm_norm = sm.OLS(y_train, X_train)\n",
    "lm_norm_trained = lm_norm.fit()\n",
    "display(lm_norm_trained.summary())"
   ]
  },
  {
   "cell_type": "code",
   "execution_count": null,
   "metadata": {},
   "outputs": [],
   "source": [
    "y_pred = lm_norm_trained.predict(X_test)\n",
    "y_pred.head()"
   ]
  },
  {
   "cell_type": "code",
   "execution_count": null,
   "metadata": {},
   "outputs": [],
   "source": [
    "test_mse_norm = mean_squared_error(y_test, y_pred)\n",
    "test_rmse_norm = np.sqrt(mean_squared_error(y_test, y_pred))\n",
    "test_mae_norm = mean_absolute_error(y_test, y_pred)\n",
    "test_mape_norm = mean_absolute_percentage_error(y_test, y_pred)\n",
    "print('Testing MSE: {:.3f} → {:.3f}'.format(test_mse, test_mse_norm))\n",
    "print('Testing RMSE: {:.3f} → {:.3f}'.format(test_rmse, test_rmse_norm))\n",
    "print('Testing MAE: {:.3f} → {:.3f}'.format(test_mae, test_mae_norm))\n",
    "print('Testing MAPE: {:.3f} → {:.3f}'.format(test_mape, test_mape_norm))"
   ]
  },
  {
   "cell_type": "markdown",
   "metadata": {},
   "source": [
    "### 반응변수(y)를 변환: $y$ 대신 $\\sqrt{y}$ 또는 $\\log y$를 예측하는 모델 학습\n",
    "-  $\\sqrt{y}$ "
   ]
  },
  {
   "cell_type": "code",
   "execution_count": null,
   "metadata": {},
   "outputs": [],
   "source": [
    "train_data_new3 = train_data.copy()\n",
    "test_data_new3 = test_data.copy()"
   ]
  },
  {
   "cell_type": "code",
   "execution_count": null,
   "metadata": {
    "scrolled": true
   },
   "outputs": [],
   "source": [
    "train_data_new3['House Value'] = np.sqrt(train_data_new3['House Value'].values)\n",
    "\n",
    "lm_new3 = sm.OLS(train_data_new3['House Value'], train_data_new3.drop('House Value', axis=1))\n",
    "lm_trained_new3 = lm_new3.fit()\n",
    "display(lm_trained_new3.summary())"
   ]
  },
  {
   "cell_type": "code",
   "execution_count": null,
   "metadata": {},
   "outputs": [],
   "source": [
    "test_pred_new3 = lm_trained_new3.predict(test_data_new3.drop('House Value', axis=1))\n",
    "test_pred_new3.head()"
   ]
  },
  {
   "cell_type": "code",
   "execution_count": null,
   "metadata": {},
   "outputs": [],
   "source": [
    "test_pred_new3 = np.square(test_pred_new3)\n",
    "test_pred_new3.head()"
   ]
  },
  {
   "cell_type": "code",
   "execution_count": null,
   "metadata": {},
   "outputs": [],
   "source": [
    "test_mse_new3 = mean_squared_error(test_data_new3['House Value'], test_pred_new3)\n",
    "test_rmse_new3 = np.sqrt(mean_squared_error(test_data_new3['House Value'], test_pred_new3))\n",
    "test_mae_new3 = mean_absolute_error(test_data_new3['House Value'], test_pred_new3)\n",
    "test_mape_new3 = mean_absolute_percentage_error(test_data_new3['House Value'], test_pred_new3)\n",
    "print('Testing MSE: {:.3f} → {:.3f}'.format(test_mse, test_mse_new3))\n",
    "print('Testing RMSE: {:.3f} → {:.3f}'.format(test_rmse, test_rmse_new3))\n",
    "print('Testing MAE: {:.3f} → {:.3f}'.format(test_mae, test_mae_new3))\n",
    "print('Testing MAPE: {:.3f} → {:.3f}'.format(test_mape, test_mape_new3))"
   ]
  },
  {
   "cell_type": "markdown",
   "metadata": {},
   "source": [
    "$\\log y$"
   ]
  },
  {
   "cell_type": "code",
   "execution_count": null,
   "metadata": {},
   "outputs": [],
   "source": [
    "train_data_new4 = train_data.copy()\n",
    "test_data_new4 = test_data.copy()"
   ]
  },
  {
   "cell_type": "code",
   "execution_count": null,
   "metadata": {},
   "outputs": [],
   "source": [
    "train_data_new4['House Value'] = np.log(train_data_new4['House Value'].values)\n",
    "\n",
    "lm_new4 = sm.OLS(train_data_new4['House Value'], train_data_new4.drop('House Value', axis=1))\n",
    "lm_trained_new4 = lm_new4.fit()\n",
    "display(lm_trained_new4.summary())"
   ]
  },
  {
   "cell_type": "code",
   "execution_count": null,
   "metadata": {},
   "outputs": [],
   "source": [
    "test_pred_new4 = lm_trained_new4.predict(test_data_new4.drop('House Value', axis=1))\n",
    "test_pred_new4.head()"
   ]
  },
  {
   "cell_type": "code",
   "execution_count": null,
   "metadata": {},
   "outputs": [],
   "source": [
    "test_pred_new4 = np.exp(test_pred_new4)\n",
    "test_pred_new4.head()"
   ]
  },
  {
   "cell_type": "code",
   "execution_count": null,
   "metadata": {},
   "outputs": [],
   "source": [
    "test_mse_new4 = mean_squared_error(test_data_new4['House Value'], test_pred_new4)\n",
    "test_rmse_new4 = np.sqrt(mean_squared_error(test_data_new4['House Value'], test_pred_new4))\n",
    "test_mae_new4 = mean_absolute_error(test_data_new4['House Value'], test_pred_new3)\n",
    "test_mape_new4 = mean_absolute_percentage_error(test_data_new4['House Value'], test_pred_new4)\n",
    "print('Testing MSE: {:.3f} → {:.3f}'.format(test_mse, test_mse_new4))\n",
    "print('Testing RMSE: {:.3f} → {:.3f}'.format(test_rmse, test_rmse_new4))\n",
    "print('Testing MAE: {:.3f} → {:.3f}'.format(test_mae, test_mae_new4))\n",
    "print('Testing MAPE: {:.3f} → {:.3f}'.format(test_mape, test_mape_new4))"
   ]
  },
  {
   "cell_type": "code",
   "execution_count": null,
   "metadata": {},
   "outputs": [],
   "source": []
  }
 ],
 "metadata": {
  "kernelspec": {
   "display_name": "Python 3",
   "language": "python",
   "name": "python3"
  },
  "language_info": {
   "codemirror_mode": {
    "name": "ipython",
    "version": 3
   },
   "file_extension": ".py",
   "mimetype": "text/x-python",
   "name": "python",
   "nbconvert_exporter": "python",
   "pygments_lexer": "ipython3",
   "version": "3.7.1"
  }
 },
 "nbformat": 4,
 "nbformat_minor": 2
}
